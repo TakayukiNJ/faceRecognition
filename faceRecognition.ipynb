{
 "cells": [
  {
   "cell_type": "code",
   "execution_count": null,
   "metadata": {
    "scrolled": true
   },
   "outputs": [],
   "source": [
    "!pip install opencv-python"
   ]
  },
  {
   "cell_type": "code",
   "execution_count": null,
   "metadata": {},
   "outputs": [],
   "source": [
    "!wget https://raw.githubusercontent.com/opencv/opencv/master/data/haarcascades/haarcascade_frontalface_alt.xml"
   ]
  },
  {
   "cell_type": "code",
   "execution_count": null,
   "metadata": {},
   "outputs": [],
   "source": [
    "cascade_path = \"haarcascade_frontalface_alt.xml\"\n",
    "import cv2\n",
    "\n",
    "cap = cv2.VideoCapture(0)\n",
    "\n",
    "while True:\n",
    "    ret, im = cap.read()\n",
    "    \n",
    "    # ここにコードを入れていく\n",
    "#     img = cv2.imread(im)\n",
    "    img_gray = cv2.cvtColor(im, cv2.COLOR_RGB2GRAY)\n",
    "    cascade = cv2.CascadeClassifier(cascade_path)\n",
    "    faces = cascade.detectMultiScale(img_gray, scaleFactor=1.1, minNeighbors=2, minSize=(80, 80)) # minNeighborsは人数\n",
    "    print(faces)\n",
    "\n",
    "    if len(faces) > 0:\n",
    "        for (x, y, w, h) in faces:\n",
    "            cv2.rectangle(im, (x,y), (x+w, y+h), (255, 0, 0), 2)\n",
    "\n",
    "    import matplotlib.pyplot as plt\n",
    "    % matplotlib inline\n",
    "\n",
    "    img = cv2.cvtColor(im, cv2.COLOR_BGR2RGB)\n",
    "\n",
    "    plt.imshow(img)\n",
    "\n",
    "    blur = cv2.GaussianBlur(im, (0, 0), 1)\n",
    "    cv2.imshow('camera capture', blur)\n",
    "    key = cv2.waitKey(10)\n",
    "    # ESCキーで終了\n",
    "    if key == 27:\n",
    "        break\n",
    "\n",
    "# 一旦画像削除の命令\n",
    "cap.release()\n",
    "# カメラが立ち上がっているので、全てのウィンドウを閉じる\n",
    "cv2.destroyAllWindows()"
   ]
  }
 ],
 "metadata": {
  "kernelspec": {
   "display_name": "Python 3",
   "language": "python",
   "name": "python3"
  },
  "language_info": {
   "codemirror_mode": {
    "name": "ipython",
    "version": 3
   },
   "file_extension": ".py",
   "mimetype": "text/x-python",
   "name": "python",
   "nbconvert_exporter": "python",
   "pygments_lexer": "ipython3",
   "version": "3.6.5"
  },
  "toc": {
   "base_numbering": 1,
   "nav_menu": {},
   "number_sections": true,
   "sideBar": true,
   "skip_h1_title": false,
   "title_cell": "Table of Contents",
   "title_sidebar": "Contents",
   "toc_cell": false,
   "toc_position": {},
   "toc_section_display": true,
   "toc_window_display": false
  }
 },
 "nbformat": 4,
 "nbformat_minor": 2
}
